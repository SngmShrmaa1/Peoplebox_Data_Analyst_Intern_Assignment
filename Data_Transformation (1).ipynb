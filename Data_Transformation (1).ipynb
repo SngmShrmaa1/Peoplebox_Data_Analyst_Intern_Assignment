{
 "cells": [
  {
   "cell_type": "code",
   "execution_count": 1,
   "id": "0253e9ec",
   "metadata": {},
   "outputs": [],
   "source": [
    "# Data Transformation"
   ]
  },
  {
   "cell_type": "code",
   "execution_count": 16,
   "id": "e7a22db3",
   "metadata": {},
   "outputs": [
    {
     "name": "stdout",
     "output_type": "stream",
     "text": [
      "Done\n"
     ]
    }
   ],
   "source": [
    "import pandas as pd\n",
    "from datetime import datetime, timedelta\n",
    "\n",
    "def transform_data(input_file_path, output_file_path):\n",
    "    # Read the input Excel file into a DataFrame\n",
    "    df = pd.read_excel(input_file_path)\n",
    "\n",
    "    # Sort the DataFrame by Employee Code and Date of Joining\n",
    "    df.sort_values(by=['Employee Code', 'Date of Joining'], inplace=True)\n",
    "\n",
    "    # Add 'End Date' column and initialize it with a far-future date\n",
    "    df['End Date'] = datetime(2100, 1, 1)\n",
    "\n",
    "    # Iterate through rows to set 'End Date' based on the next 'Date of Joining'\n",
    "    for i in range(len(df) - 1):\n",
    "        if df.at[i, 'Employee Code'] == df.at[i + 1, 'Employee Code']:\n",
    "            df.at[i, 'End Date'] = df.at[i + 1, 'Date of Joining'] - timedelta(days=1)\n",
    "\n",
    "    # Transform data to row-based format\n",
    "    result_list = []\n",
    "\n",
    "    for i, row in df.iterrows():\n",
    "        current_date = row['Date of Joining']\n",
    "        while current_date <= row['End Date']:\n",
    "            result_list.append({\n",
    "                'Employee Code': row['Employee Code'],\n",
    "                'Manager Employee Code': row['Manager Employee Code'],\n",
    "                'Last Compensation': row['Compensation 1'],  # Assuming 'Compensation 1' is the last compensation\n",
    "                'Compensation': row['Compensation'],\n",
    "                'Last Pay Raise Date': row['Compensation 1 date'],  # Assuming 'Compensation 1 date' is the last pay raise date\n",
    "                'Variable Pay': row['Compensation 2'],  # Assuming 'Compensation 2' is variable pay\n",
    "                'Tenure in Org': (current_date - row['Date of Joining']).days,\n",
    "                'Performance Rating': row['Review 2'],  # Assuming 'Review 2' is the latest performance rating\n",
    "                'Engagement Score': row['Engagement 2'],  # Assuming 'Engagement 2' is the latest engagement score\n",
    "                'Effective Date': current_date,\n",
    "                'End Date': min(current_date + timedelta(days=365), row['End Date'])  # Assuming a year as the default duration\n",
    "            })\n",
    "            current_date += timedelta(days=366)  # Move to the next year\n",
    "\n",
    "    # Convert the list of dictionaries to a DataFrame\n",
    "    result_df = pd.DataFrame(result_list)\n",
    "\n",
    "    # Drop unnecessary columns\n",
    "    result_df.drop(columns=['End Date'], inplace=True)\n",
    "\n",
    "    # Save the transformed data to a new Excel file\n",
    "    result_df.to_csv(output_file_path, index=False)\n",
    "    print(\"Done\")\n",
    "\n",
    "if __name__ == \"__main__\":\n",
    "    # Replace 'input.xlsx' and 'output.xlsx' with your actual file names\n",
    "    input_file = 'C:/Users/gargs/Downloads/Input.xlsx'\n",
    "    output_file = 'C:/Users/gargs/Downloads/output.csv'\n",
    "\n",
    "    transform_data(input_file, output_file)\n"
   ]
  },
  {
   "cell_type": "code",
   "execution_count": null,
   "id": "206715fa",
   "metadata": {},
   "outputs": [],
   "source": []
  },
  {
   "cell_type": "code",
   "execution_count": null,
   "id": "76f045ee",
   "metadata": {},
   "outputs": [],
   "source": []
  }
 ],
 "metadata": {
  "kernelspec": {
   "display_name": "Python 3 (ipykernel)",
   "language": "python",
   "name": "python3"
  },
  "language_info": {
   "codemirror_mode": {
    "name": "ipython",
    "version": 3
   },
   "file_extension": ".py",
   "mimetype": "text/x-python",
   "name": "python",
   "nbconvert_exporter": "python",
   "pygments_lexer": "ipython3",
   "version": "3.9.12"
  }
 },
 "nbformat": 4,
 "nbformat_minor": 5
}
